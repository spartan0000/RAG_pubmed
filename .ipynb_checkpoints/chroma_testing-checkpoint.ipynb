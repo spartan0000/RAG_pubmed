{
 "cells": [
  {
   "cell_type": "code",
   "execution_count": 1,
   "id": "6d236146-a93a-42df-a14d-78865146b0f7",
   "metadata": {},
   "outputs": [],
   "source": [
    "import openai\n",
    "from openai import OpenAI\n",
    "import chromadb\n",
    "from chromadb import Client\n",
    "import os\n",
    "from chromadb.config import Settings\n",
    "from typing import List\n",
    "import json\n",
    "from dotenv import load_dotenv\n",
    "load_dotenv()\n",
    "\n",
    "from Bio import Entrez\n",
    "\n",
    "openai.api_key = os.getenv('OPENAI_API_KEY')\n",
    "Entrez.email = os.getenv('EMAIL')"
   ]
  },
  {
   "cell_type": "code",
   "execution_count": 7,
   "id": "c02da07b-b015-4d7e-b440-aed8bd0cba6a",
   "metadata": {},
   "outputs": [],
   "source": [
    "persist_path = os.path.abspath('chroma_test_db')\n",
    "client = chromadb.PersistentClient(path = persist_path)\n",
    "collection = client.get_or_create_collection('test_collection')"
   ]
  },
  {
   "cell_type": "code",
   "execution_count": 8,
   "id": "dd94b560-e437-4637-9b8f-40a4c6004b77",
   "metadata": {},
   "outputs": [
    {
     "name": "stdout",
     "output_type": "stream",
     "text": [
      "\n",
      " chroma persistence\n",
      "working directory: C:\\Users\\docto\\Python\\medsearch\n",
      "persist directory exists: True\n",
      "files in persist directory: ['chroma.sqlite3', 'e039585f-dcb3-40a0-92ab-063cc84c6f67']\n",
      "number of documents stored: 1\n"
     ]
    }
   ],
   "source": [
    "doc = 'Viruses are not actually alive'\n",
    "embedding = [0.01] * 412\n",
    "collection.add(\n",
    "    documents = [doc],\n",
    "    ids = ['test1'],\n",
    "    embeddings = [embedding],\n",
    "    metadatas = [{'source':'test'}],\n",
    ")\n",
    "\n",
    "\n",
    "\n",
    "print('\\n chroma persistence')\n",
    "print('working directory:', os.getcwd())\n",
    "print('persist directory exists:', os.path.exists(persist_path))\n",
    "print('files in persist directory:', os.listdir(persist_path))\n",
    "print('number of documents stored:', collection.count())\n",
    "      \n"
   ]
  },
  {
   "cell_type": "code",
   "execution_count": 6,
   "id": "220436f2-7593-4b3a-888a-93081aced8bb",
   "metadata": {},
   "outputs": [
    {
     "data": {
      "text/plain": [
       "[]"
      ]
     },
     "execution_count": 6,
     "metadata": {},
     "output_type": "execute_result"
    }
   ],
   "source": [
    "os.listdir(persist_path)"
   ]
  },
  {
   "cell_type": "code",
   "execution_count": 4,
   "id": "6ad4c5c2-e4ca-4532-a88f-2673b623bcec",
   "metadata": {},
   "outputs": [
    {
     "name": "stdout",
     "output_type": "stream",
     "text": [
      "1.0.12\n"
     ]
    }
   ],
   "source": [
    "print(chromadb.__version__)"
   ]
  },
  {
   "cell_type": "code",
   "execution_count": 5,
   "id": "ce5d842d-c2de-43dd-a49f-902b6a6b4e1d",
   "metadata": {},
   "outputs": [
    {
     "name": "stdout",
     "output_type": "stream",
     "text": [
      "False\n"
     ]
    }
   ],
   "source": [
    "print(hasattr(client, 'persist'))"
   ]
  },
  {
   "cell_type": "code",
   "execution_count": null,
   "id": "c35f3bdd-7681-465a-ab8a-17f1106730be",
   "metadata": {},
   "outputs": [],
   "source": []
  }
 ],
 "metadata": {
  "kernelspec": {
   "display_name": "medsearch",
   "language": "python",
   "name": "medsearch-env"
  },
  "language_info": {
   "codemirror_mode": {
    "name": "ipython",
    "version": 3
   },
   "file_extension": ".py",
   "mimetype": "text/x-python",
   "name": "python",
   "nbconvert_exporter": "python",
   "pygments_lexer": "ipython3",
   "version": "3.13.4"
  }
 },
 "nbformat": 4,
 "nbformat_minor": 5
}
