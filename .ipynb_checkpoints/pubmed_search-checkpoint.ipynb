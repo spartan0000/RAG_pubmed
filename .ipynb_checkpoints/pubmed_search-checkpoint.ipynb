{
 "cells": [
  {
   "cell_type": "code",
   "execution_count": 2,
   "id": "8dcaa18a-80d2-488d-abaf-66f3d96e2b86",
   "metadata": {},
   "outputs": [],
   "source": [
    "import openai\n",
    "from openai import OpenAI\n",
    "import chromadb\n",
    "import os\n",
    "from chromadb.config import Settings\n",
    "from typing import List\n",
    "import json\n",
    "from dotenv import load_dotenv\n",
    "load_dotenv()\n",
    "\n",
    "from Bio import Entrez\n",
    "\n",
    "openai.api_key = os.getenv('OPENAI_API_KEY')\n",
    "Entrez.email = os.getenv('EMAIL')"
   ]
  },
  {
   "cell_type": "code",
   "execution_count": 81,
   "id": "acfa6229-c281-4087-a195-e96f631e8f5d",
   "metadata": {},
   "outputs": [],
   "source": [
    "#translate free text query into a query formatted for PubMed\n",
    "def translate_query(user_query:str) -> str:\n",
    "    system_prompt = \"\"\"\n",
    "    You are helping with a pubmed query.  Take the user input and extract the search terms of interest\n",
    "    and convert it into a PubMed compatible search using MeSH terms as well as any publication dates if \n",
    "    the user has input those.  Return ***ONLY valid JSON*** in the reponse.  Do not explain, format or decorate\n",
    "    the output.  The JSON should be formatted as follows with the key:value pairs\n",
    "    {mesh_terms: a list of biomedical terms from the query as MeSH terms where possible,\n",
    "    publication_date: formatted as a date range YYYY-MM-DD for the start and end dates.  Or, if no dates are input, default to January 1, 2022-December 31, 2024\n",
    "    pubmed_query: a properly formatted PubMed query search string using [MeSH Terms], [All Fields], and [Publication - Date]\n",
    "    \"\"\"\n",
    "    user_prompt = f\"\"\"User's natural language query: {user_query}\"\"\"\n",
    "    \n",
    "    response = openai_client.responses.create(\n",
    "        model = 'gpt-4o-mini',\n",
    "        input = [\n",
    "            {\n",
    "                'role': 'system',\n",
    "                'content': system_prompt,\n",
    "            },\n",
    "            {\n",
    "                'role':'user',\n",
    "                'content':user_prompt,\n",
    "            }\n",
    "        ],\n",
    "        temperature = 0\n",
    "    )\n",
    "    parsed = json.loads(response.output[0].content[0].text)\n",
    "    pubmed_query = parsed['pubmed_query']\n",
    "    return pubmed_query\n",
    "    "
   ]
  },
  {
   "cell_type": "code",
   "execution_count": 4,
   "id": "3211d802-22ad-4427-a72d-23abc852d6e6",
   "metadata": {},
   "outputs": [],
   "source": [
    "chroma_client = chromadb.Client(Settings(persist_directory = './chroma_db'))\n",
    "collection = chroma_client.get_or_create_collection('pubmed_cache')\n",
    "\n",
    "openai_client = OpenAI()\n",
    "\n",
    "def get_embedding(text: str) -> List[float]:\n",
    "    response = openai_client.embeddings.create(\n",
    "        input = text,\n",
    "        model = 'text-embedding-3-small',\n",
    "    )\n",
    "    return response.data[0].embedding"
   ]
  },
  {
   "cell_type": "code",
   "execution_count": 5,
   "id": "b689c0e2-4909-42d2-8272-a4255fdc5c72",
   "metadata": {},
   "outputs": [],
   "source": [
    "#get the articles and metadata using the prompt created above\n",
    "def parse_pub_date(pub_date):\n",
    "    if 'Year' in pub_date:\n",
    "        year = pub_date['Year']\n",
    "        month = pub_date.get('Month', '01')\n",
    "        day = pub_date.get('Day', '01')\n",
    "        return f'{year} - {month} - {day}'\n",
    "    return 'Not Available'\n",
    "\n",
    "def get_articles(query, n_results = 5):\n",
    "    results = []\n",
    "    \n",
    "    handle = Entrez.esearch(db = 'pubmed', term = query, retmax = n_results)\n",
    "    record = Entrez.read(handle)\n",
    "    id_list = record['IdList']\n",
    "    \n",
    "    #for each pmid, get information about the article\n",
    "    for pmid in id_list:\n",
    "        handle = Entrez.efetch(db = 'pubmed', id = pmid, retmode = 'xml')\n",
    "        records = Entrez.read(handle)\n",
    "        \n",
    "        #process each article\n",
    "        for record in records['PubmedArticle']:\n",
    "            article = record['MedlineCitation']['Article']\n",
    "            title = article.get('ArticleTitle', 'Title Not Available')\n",
    "            abstract = ' '.join(article['Abstract']['AbstractText']) if 'Abstract' in article else ''\n",
    "            authors_list = ', '.join(a.get('ForeName', '') + ' ' + a.get('LastName', '') for a in article.get('AuthorList', [])) or 'Authors Not Available'\n",
    "            journal = article['Journal'].get('Title', 'Journal Not Available')\n",
    "            keywords = ', '.join(k['DescriptorName'] for k in record['MedlineCitation'].get('MeshHeadingList', [])) or 'Keyword Not Available'\n",
    "            pub_date = parse_pub_date(article['Journal']['JournalIssue']['PubDate'])\n",
    "            url = f\"https://www.ncbi.nlm.nih.gov/pubmed/{pmid}\"\n",
    "            \n",
    "            new_result = {\n",
    "                'PMID':pmid,\n",
    "                'Title':title,\n",
    "                'Authors':authors_list,\n",
    "                'Abstract':abstract,\n",
    "                'Journal':journal,\n",
    "                'Keywords':keywords,\n",
    "                'URL':url,\n",
    "                'Publication Date':pub_date,\n",
    "                }\n",
    "        \n",
    "            results.append(new_result)\n",
    "         \n",
    "    return results\n",
    "    \n",
    "#def create_string(result): #need to convert the results above to a long string to input into the LLM\n",
    "#\n",
    "#    text = ' '.join(f\"{result[i].get('Title', '')} {result[i].get('Abstract', '')} {result[i].get('Keywords', '')} {result[i].get('Journal', '')} {result[i].get('Publication Date', '')}\" for i in range(len(result)))\n",
    "#\n",
    "#    return text\n"
   ]
  },
  {
   "cell_type": "code",
   "execution_count": 11,
   "id": "71a3eb69-5c41-436c-aa10-205f55af567c",
   "metadata": {},
   "outputs": [],
   "source": [
    "query = translate_query('I want to know whats going on about robotic hernia repairs in 2024')"
   ]
  },
  {
   "cell_type": "code",
   "execution_count": 12,
   "id": "c5d387d0-8e78-40a7-bf96-6f0ff196923f",
   "metadata": {},
   "outputs": [
    {
     "name": "stdout",
     "output_type": "stream",
     "text": [
      "(Hernia, Inguinal/surgery[MeSH Terms] OR robotic hernia repair[All Fields]) AND (2024[Publication Date])\n"
     ]
    }
   ],
   "source": [
    "print(query)"
   ]
  },
  {
   "cell_type": "code",
   "execution_count": null,
   "id": "9110aae4-0258-44cb-ba5a-576e25f41013",
   "metadata": {},
   "outputs": [],
   "source": []
  },
  {
   "cell_type": "code",
   "execution_count": 8,
   "id": "5c215cb3-9514-4354-9ae6-72b566efe851",
   "metadata": {},
   "outputs": [],
   "source": [
    "def extract_abstracts(results):\n",
    "    abstracts = []\n",
    "    for i in range(len(results)):\n",
    "        abstract = results[i]['Abstract']\n",
    "        abstracts.append(abstract)\n",
    "    combined_abstracts = ''.join(abstracts)\n",
    "    return [combined_abstracts]"
   ]
  },
  {
   "cell_type": "code",
   "execution_count": 14,
   "id": "a666999a-f60b-464c-886b-78883b965f4c",
   "metadata": {},
   "outputs": [],
   "source": [
    "results = get_articles(query)\n"
   ]
  },
  {
   "cell_type": "code",
   "execution_count": 16,
   "id": "9a55944b-7ffb-411b-98e9-dc6768c57ad4",
   "metadata": {},
   "outputs": [
    {
     "name": "stdout",
     "output_type": "stream",
     "text": [
      "[{'PMID': '39948954', 'Title': '[A Case of Appendiceal Pseudomyxoma Peritonei Diagnosed by Inguinal Hernia and Treated with Multidisciplinary Treatment].', 'Authors': 'Akira Sogawa, Takashi Matsunaga, Yasumitsu Oe, Toru Imagami, Byonggu An, Nobuyuki Takao, Takeshi Togawa, Akiyoshi Mizumoto, Shizuki Takemura, Yutaka Yonemura', 'Abstract': 'Pseudomyxoma peritonei (PMP)is a clinical condition caused by ruptured mucinous tumors like appendix and ovaries, and large amounts of mucus fill the abdominal cavity. We experienced a case of PMP presented with an inguinal hernia. A 62-year-old man complained of a bulge in the left inguinal region. The results of the test was PMP caused by ruptured appendiceal myxoma. After intraperitoneal chemotherapy, we performed surgery. We performed right hemicolectomy, low anterior resection, peritoneum excision of the pelvic space, right diaphragm resection, omentectomy, cholecystectomy and splenectomy. Finally, hyperthermia chemotherapy was performed. Microscopic findings showed PMP caused by low-grade appendiceal mucinous neoplasm. We report this case with some bibliographic consideration.', 'Journal': 'Gan to kagaku ryoho. Cancer & chemotherapy', 'Keywords': 'Humans, Pseudomyxoma Peritonei, Male, Middle Aged, Appendiceal Neoplasms, Hernia, Inguinal, Peritoneal Neoplasms, Combined Modality Therapy', 'URL': 'https://www.ncbi.nlm.nih.gov/pubmed/39948954', 'Publication Date': '2024 - Dec - 01'}, {'PMID': '39948914', 'Title': '[A Case of Local Resection and Mesh Repair of the Abdominal Wall to Effectively Treat the Recurrence of Sigmoid Colon Cancer with Spontaneous Perforation in the Inguinal Hernia Sac].', 'Authors': 'Kyosuke Agawa, Masahide Awazu, Noriko Omura, Shunji Nakayama, Yuzo Yamamoto, Hiromi Maeda', 'Abstract': 'A 79-year-old man presented with a painful palpable mass in his lower abdominal wall, measuring approximately 7 cm, that occurred 4 months after undergoing partial sigmoidectomy for sigmoid colon cancer perforation within the left inguinal hernia sac. The mass was diagnosed as a recurrent tumor of sigmoid colon cancer located in the left rectus abdominis muscle. Chemotherapy was initially considered for treatment; however, surgical resection of the tumor combined with abdominal wall reconstruction was ultimately selected because the tumor caused significant pain and impacted the quality of life of the patient. Metastases were not observed in other areas. Postoperative chemotherapy was administered, and the patient is currently alive without any signs of recurrence 1 year after surgery.', 'Journal': 'Gan to kagaku ryoho. Cancer & chemotherapy', 'Keywords': 'Humans, Male, Aged, Sigmoid Neoplasms, Hernia, Inguinal, Surgical Mesh, Recurrence, Abdominal Wall, Rupture, Spontaneous, Intestinal Perforation, Colectomy', 'URL': 'https://www.ncbi.nlm.nih.gov/pubmed/39948914', 'Publication Date': '2024 - Dec - 01'}, {'PMID': '39923179', 'Title': 'Total extra peritoneal Repair of Inguinal Hernia under General Anesthesia Versus Spinal Anesthesia.', 'Authors': 'Udita Mishra, Ghanashyam Thapa', 'Abstract': 'Total extra peritoneal inguinal hernia repair is established approach to inguinal hernia repair usually performed under general anesthesia. Aim of the study was to compare Total extra peritoneal inguinal hernia repair outcome when operated under spinal anesthesia and general anesthesia. A prospective cross-sectional study was conducted at Bir hospital on patients undergoing Total extra peritoneal inguinal hernia repair under either spinal anesthesia or general anesthesia for inguinal hernia from September 2022 to August 2023. Operative time, postoperative hospitalization time, postoperative pain, postoperative adverse effects, level of satisfaction and recurrence rate at one year was compared. Fifty-eight patients were included, divided into two groups TEP-GA and TEP-SA, 29 in each arm. All procedures were completed by allocated method of anesthesia. Though pain score was low in TEP-SA in initial four hours, 2.79±1.08 (GA) and 1.99±0.97 (SA) and 2.28±1.09 (GA) and 1.80±0.80 (SA) at one and four hours post-operative respectively, no statistical difference was noted between two groups regarding surgery time, pain score complications, hospital stay, recovery or recurrence. Spinal anesthesia is at par with general anesthesia for total extra peritoneal inguinal hernia repair, if not better. It may be appropriate anesthetic modality in patients considered high risk for general anaesthesia.', 'Journal': 'Journal of Nepal Health Research Council', 'Keywords': 'Humans, Hernia, Inguinal, Anesthesia, Spinal, Anesthesia, General, Male, Prospective Studies, Cross-Sectional Studies, Middle Aged, Female, Herniorrhaphy, Adult, Pain, Postoperative, Operative Time, Recurrence, Length of Stay, Aged', 'URL': 'https://www.ncbi.nlm.nih.gov/pubmed/39923179', 'Publication Date': '2024 - Dec - 20'}, {'PMID': '39739127', 'Title': 'Effect of sac transection versus sac reduction on seroma in laparoscopic indirect hernia repair: a systematic review and meta-analysis.', 'Authors': 'Rui Cao, Xiangyu Shao, Junsheng Li', 'Abstract': 'Seroma formation is a prevalent postoperative complication following laparoscopic inguinal hernia repair. While seromas are mostly self-absorbed, they can cause discomfort for the patient and complicate the assessment of hernia recurrence. Two primary techniques for managing the hernia sac are sac transection and complete sac reduction. This article aims to evaluate whether sac transection leads to a higher incidence of seroma compared to sac reduction and to review the main preventive strategies for seroma. Four databases (PubMed, MEDLINE, Embase and Cochrane Library) and ClinicalTrials.gov were comprehensively searched for relevant studies. The date of the last search was 25 March 2024. The results reported should include reliable information on seroma incidence, mean operation time, hospital stay and postoperative complications. The present study included 6 studies compared the results of indirect hernia sac transection and complete sac reduction. The pooled results indicated that indirect hernia sac transection was associated increased seroma formation (OR\\u2009=\\u20091.74, 95% CI: 1.35-2.24%), and there was no statistical difference in mean operation time, hospital stay and recurrence between the sac transection (TS) and sac reduction (RS) groups. Postoperative pain was evaluated in 4 studies. There was no statistical difference between the two groups in postoperative pain reported in each of the four articles. The study revealed that transection of the indirect hernia sac is associated with a higher incidence of seroma, but does not increase the occurrence of other complications.', 'Journal': 'Hernia : the journal of hernias and abdominal wall surgery', 'Keywords': 'Humans, Hernia, Inguinal, Herniorrhaphy, Laparoscopy, Length of Stay, Operative Time, Postoperative Complications, Seroma', 'URL': 'https://www.ncbi.nlm.nih.gov/pubmed/39739127', 'Publication Date': '2024 - Dec - 30'}, {'PMID': '39736846', 'Title': 'Robotic Laparoscopic Assisted Treatment of Inguinal Hernia Containing an Incarcerated Ectopic Pregnancy.', 'Authors': 'Nashali Ferrara, Michael Scutella, Hetal Lad, Tiffany Hsiung, Yasmin Abedin, Arpit Amin', 'Abstract': 'It is rare for adult female patients to present with incarcerated inguinal hernias containing ovary, fallopian tube, or uterine tissue. Potential surgical treatment options for incarcerated inguinal hernias containing ovary, fallopian tube or uterine tissue include open inguinal hernia repair (IHR), laparoscopic or robotic IHR. Herein, we report a case of an adult female presenting with a unilateral incarcerated inguinal hernia containing ectopic pregnancy. Patient was treated with laparoscopic lysis of adhesions, reduction of incarcerated ectopic pregnancy and unilateral salpingectomy. Patient then underwent robotic assisted transabdominal preperitoneal IHR (rTAPP-IHR). Minimally invasive laparoscopic salpingectomy and rTAPP-IHR can be safely performed in patients presenting with unilateral incarcerated inguinal hernia containing ectopic pregnancy.', 'Journal': 'CRSLS : MIS case reports from SLS', 'Keywords': 'Humans, Female, Hernia, Inguinal, Pregnancy, Robotic Surgical Procedures, Laparoscopy, Adult, Pregnancy, Ectopic, Salpingectomy, Herniorrhaphy', 'URL': 'https://www.ncbi.nlm.nih.gov/pubmed/39736846', 'Publication Date': '2024 - 01 - 01'}]\n",
      "5\n"
     ]
    }
   ],
   "source": [
    "print(results)\n",
    "print(len(results))"
   ]
  },
  {
   "cell_type": "code",
   "execution_count": null,
   "id": "69e29c0b-f31f-424b-a9fa-6d6a0ed9150d",
   "metadata": {},
   "outputs": [],
   "source": []
  },
  {
   "cell_type": "code",
   "execution_count": 25,
   "id": "d395fe99-4f10-4030-a1aa-a74bb7f909ac",
   "metadata": {},
   "outputs": [],
   "source": [
    "cache_abstracts(results)"
   ]
  },
  {
   "cell_type": "code",
   "execution_count": 24,
   "id": "a281f9f9-b0b3-4d61-a96d-0e9877b90477",
   "metadata": {},
   "outputs": [],
   "source": [
    "#cache the results in our db\n",
    "def cache_abstracts(results):\n",
    "    documents = []\n",
    "    ids = []\n",
    "    embeddings = []\n",
    "    metadatas = []\n",
    "    \n",
    "    for result in results:\n",
    "        abstract = result['Abstract']\n",
    "        documents.append(abstract)\n",
    "        ids.append(result['PMID'])\n",
    "        embeddings.append(get_embedding(abstract))\n",
    "        metadatas.append({\n",
    "            'title':result['Title'],\n",
    "            'journal':result['Journal'],\n",
    "            'authors':result['Authors'],\n",
    "            'publication date':result['Publication Date'],\n",
    "            'keywords':result['Keywords'],\n",
    "        })\n",
    "            \n",
    "        \n",
    "    collection.add(\n",
    "        documents = documents,\n",
    "        ids = ids,\n",
    "        embeddings = embeddings,\n",
    "        metadatas = metadatas,\n",
    "    )"
   ]
  },
  {
   "cell_type": "code",
   "execution_count": null,
   "id": "575d98db-373c-4d6a-b259-70acc03f4cd0",
   "metadata": {},
   "outputs": [],
   "source": []
  },
  {
   "cell_type": "code",
   "execution_count": 80,
   "id": "2163a9af-ddff-4562-8f32-bd766fa91c97",
   "metadata": {},
   "outputs": [],
   "source": [
    "#take user query as above and query the vector DB first to see if there's anything similar\n",
    "#def get_combined_context(user_query):\n",
    "#    query = translate_query(user_query)\n",
    "#    embedding = get_embedding(user_query)\n",
    "#\n",
    "#    rag_results = collection.query(query_embeddings = [embedding], n_results = 5)\n",
    "#    rag_docs = rag_results['documents'] if rag_results['documents'] else []\n",
    "#\n",
    "#    pubmed_results = get_articles(query)\n",
    "#    pubmed_docs = extract_abstracts(pubmed_results) #list format\n",
    "#    \n",
    "#    return rag_results\n",
    "######\n",
    "#need to finish this\n",
    "######"
   ]
  },
  {
   "cell_type": "code",
   "execution_count": 19,
   "id": "71f500f2-edf0-4438-a540-d64c723873d6",
   "metadata": {},
   "outputs": [
    {
     "ename": "NameError",
     "evalue": "name 'get_combined_context' is not defined",
     "output_type": "error",
     "traceback": [
      "\u001b[31m---------------------------------------------------------------------------\u001b[39m",
      "\u001b[31mNameError\u001b[39m                                 Traceback (most recent call last)",
      "\u001b[36mCell\u001b[39m\u001b[36m \u001b[39m\u001b[32mIn[19]\u001b[39m\u001b[32m, line 1\u001b[39m\n\u001b[32m----> \u001b[39m\u001b[32m1\u001b[39m r = \u001b[43mget_combined_context\u001b[49m(\u001b[33m'\u001b[39m\u001b[33mrobotic hernia repair\u001b[39m\u001b[33m'\u001b[39m)\n",
      "\u001b[31mNameError\u001b[39m: name 'get_combined_context' is not defined"
     ]
    }
   ],
   "source": [
    "r = get_combined_context('robotic hernia repair')"
   ]
  },
  {
   "cell_type": "code",
   "execution_count": 20,
   "id": "f3043e14-4dd3-41fe-943f-f476ac4d111c",
   "metadata": {},
   "outputs": [],
   "source": [
    "def vector_db_lookup(query_embedding, n_res = 5):\n",
    "    results = collection.query(query_embeddings = [query_embedding], n_results = n_res)\n",
    "    if results['documents']:\n",
    "        return [\n",
    "            {\n",
    "                'abstract':doc,\n",
    "                'metadata':meta,\n",
    "                'source':'RAG',\n",
    "            }\n",
    "            for doc, meta in zip(results['documents'][0], results['metadatas'][0])\n",
    "        ]\n",
    "    return []"
   ]
  },
  {
   "cell_type": "code",
   "execution_count": null,
   "id": "8f80afbe-96f9-4b50-845c-8a7dc29e5fa8",
   "metadata": {},
   "outputs": [],
   "source": [
    "def query_handler(user_query):\n",
    "    query_embedding = get_embedding(user_query)\n",
    "    pubmed_query = translate_query(user_query)\n",
    "\n",
    "    rag_results = vector_db_lookup(query_embedding)\n",
    "\n",
    "    pubmed_results = get_articles(pubmed_query)\n",
    "\n",
    "    cache_abstracts(pubmed_results)\n",
    "\n",
    "    #get combined context\n",
    "\n",
    "    #send to llm for summary\n",
    "    \n",
    "    "
   ]
  },
  {
   "cell_type": "code",
   "execution_count": 26,
   "id": "4e73da09-d33c-4510-b417-70c1b563e5a1",
   "metadata": {},
   "outputs": [],
   "source": [
    "query_embedding = get_embedding('robotic inguinal hernia')\n",
    "\n",
    "output = vector_db_lookup(query_embedding)"
   ]
  },
  {
   "cell_type": "code",
   "execution_count": 73,
   "id": "a85f1518-44fe-4259-b8b3-d58b9b305696",
   "metadata": {},
   "outputs": [
    {
     "name": "stdout",
     "output_type": "stream",
     "text": [
      "{'keywords': 'Humans, Female, Hernia, Inguinal, Pregnancy, Robotic Surgical Procedures, Laparoscopy, Adult, Pregnancy, Ectopic, Salpingectomy, Herniorrhaphy', 'publication date': '2024 - 01 - 01', 'journal': 'CRSLS : MIS case reports from SLS', 'authors': 'Nashali Ferrara, Michael Scutella, Hetal Lad, Tiffany Hsiung, Yasmin Abedin, Arpit Amin', 'title': 'Robotic Laparoscopic Assisted Treatment of Inguinal Hernia Containing an Incarcerated Ectopic Pregnancy.'}\n"
     ]
    }
   ],
   "source": [
    "print(output[0]['metadata'])"
   ]
  },
  {
   "cell_type": "code",
   "execution_count": 38,
   "id": "071f8f46-a10c-4494-bb03-2ed1d134c36b",
   "metadata": {},
   "outputs": [
    {
     "name": "stdout",
     "output_type": "stream",
     "text": [
      "[A Case of Appendiceal Pseudomyxoma Peritonei Diagnosed by Inguinal Hernia and Treated with Multidisciplinary Treatment].\n"
     ]
    }
   ],
   "source": [
    "print(results[0]['Title'])"
   ]
  },
  {
   "cell_type": "code",
   "execution_count": 98,
   "id": "25105156-d9e1-42a0-bd66-758066b9d0db",
   "metadata": {},
   "outputs": [],
   "source": [
    "#getting the output formatted to feed the LLM\n",
    "def format_pubmed_articles(pubmed_results):\n",
    "    pubmed_articles = []\n",
    "    for i in range(len(pubmed_results)):\n",
    "        \n",
    "        article = \"\\n\".join([\n",
    "            f\"\"\"###Article source: Pubmed\n",
    "            **Title:** {pubmed_results[i].get('Title', '')}\n",
    "            **Authors:** {pubmed_results[i].get('Authors', '')}\n",
    "            **Journal:** {pubmed_results[i].get('Journal', \"\")}\n",
    "            **Abstract:** {pubmed_results[i]['Abstract']}\n",
    "            ---\"\"\"\n",
    "        ])\n",
    "        pubmed_articles.append(article)\n",
    "    return ''.join(pubmed_articles)"
   ]
  },
  {
   "cell_type": "code",
   "execution_count": 99,
   "id": "f374f571-7a21-44a1-a43d-0e131fe43682",
   "metadata": {},
   "outputs": [],
   "source": [
    "#getting the output formatted to feed the LLM\n",
    "def format_rag_output(rag_results):\n",
    "    rag_articles = []\n",
    "    for i in range(len(rag_results)):\n",
    "        article =  \"\\n\".join([\n",
    "            f\"\"\"###Article(Source: {result.get('source', 'Unknown')}\n",
    "            **Title:** {rag_results[i]['metadata'].get('title', '')}\n",
    "            **Authors:** {rag_results[i]['metadata'].get('authors', '')}\n",
    "            **Journal:** {rag_results[i]['metadata'].get('journal', '')}\n",
    "            **Abstract:** {rag_results[i]['abstract']}\n",
    "            ---\"\"\"])\n",
    "        rag_articles.append(article)\n",
    "    return ''.join(rag_articles)"
   ]
  },
  {
   "cell_type": "code",
   "execution_count": 100,
   "id": "614379b4-7019-4487-8179-3545617ff5db",
   "metadata": {},
   "outputs": [],
   "source": [
    "rag_out = format_rag_output(output)"
   ]
  },
  {
   "cell_type": "code",
   "execution_count": 101,
   "id": "4ec8a824-8805-456b-ad45-08105e0d235d",
   "metadata": {},
   "outputs": [],
   "source": [
    "pm_out = format_pubmed_articles(results)"
   ]
  },
  {
   "cell_type": "code",
   "execution_count": null,
   "id": "d6ac764d-cf25-42f3-9bb9-1217df25a26f",
   "metadata": {},
   "outputs": [],
   "source": []
  },
  {
   "cell_type": "code",
   "execution_count": 120,
   "id": "e4f5c77b-533c-4845-8484-a4d51f36627e",
   "metadata": {},
   "outputs": [],
   "source": [
    "def summarize(rag_pubmed_output):\n",
    "    system_prompt = \"\"\"\n",
    "    You are a helpful assistant tasked with summarizing scientific articles for a scientist or healthcare professional\n",
    "    Include the source where possible.  You can use specialized medical jargon and assume that the reader understands.\n",
    "    Summarize each article highlighting the main points, any statistically significant or clinically significant results and the author's main conclusions.\n",
    "    Then, at the end, provide 3-4 sentences that give a broad overview of the articles together.\n",
    "    \"\"\"\n",
    "\n",
    "    articles = rag_pubmed_output\n",
    "\n",
    "    \n",
    "    response = openai_client.responses.create(\n",
    "        model = 'gpt-4o-mini',\n",
    "        input = [\n",
    "            {\n",
    "                'role': 'system',\n",
    "                'content': system_prompt,\n",
    "            },\n",
    "            {\n",
    "                'role':'user',\n",
    "                'content':articles,\n",
    "            }\n",
    "        ],\n",
    "        temperature = 0\n",
    "    )\n",
    "    return response.output[0].content[0].text\n",
    "    "
   ]
  },
  {
   "cell_type": "code",
   "execution_count": 121,
   "id": "f30f7d95-977a-43bd-a632-7886da5d4614",
   "metadata": {},
   "outputs": [],
   "source": [
    "total_output = rag_out + pm_out\n",
    "res = summarize(total_output)"
   ]
  },
  {
   "cell_type": "code",
   "execution_count": 122,
   "id": "f46b5bab-9f17-454c-9aed-438685900954",
   "metadata": {},
   "outputs": [
    {
     "name": "stdout",
     "output_type": "stream",
     "text": [
      "### Article Summaries\n",
      "\n",
      "1. **Robotic Laparoscopic Assisted Treatment of Inguinal Hernia Containing an Incarcerated Ectopic Pregnancy**\n",
      "   - **Authors:** Nashali Ferrara et al.\n",
      "   - **Journal:** CRSLS: MIS case reports from SLS\n",
      "   - **Summary:** This case report discusses a rare instance of an adult female with a unilateral incarcerated inguinal hernia containing ectopic pregnancy. The patient underwent laparoscopic lysis of adhesions, reduction of the ectopic pregnancy, and unilateral salpingectomy, followed by robotic-assisted transabdominal preperitoneal inguinal hernia repair (rTAPP-IHR). The authors conclude that minimally invasive techniques can be safely employed in such complex cases, highlighting the feasibility and safety of robotic-assisted surgery in this context.\n",
      "\n",
      "2. **Total Extra Peritoneal Repair of Inguinal Hernia under General Anesthesia Versus Spinal Anesthesia**\n",
      "   - **Authors:** Udita Mishra, Ghanashyam Thapa\n",
      "   - **Journal:** Journal of Nepal Health Research Council\n",
      "   - **Summary:** This prospective cross-sectional study compared outcomes of total extra peritoneal inguinal hernia repair under spinal anesthesia (SA) versus general anesthesia (GA). Fifty-eight patients were analyzed, revealing that while initial postoperative pain scores were lower in the SA group, no significant differences were found in operative time, complications, hospital stay, or recurrence rates. The authors suggest that spinal anesthesia is a viable alternative to general anesthesia, particularly for high-risk patients.\n",
      "\n",
      "3. **Effect of Sac Transection Versus Sac Reduction on Seroma in Laparoscopic Indirect Hernia Repair: A Systematic Review and Meta-Analysis**\n",
      "   - **Authors:** Rui Cao, Xiangyu Shao, Junsheng Li\n",
      "   - **Journal:** Hernia: the journal of hernias and abdominal wall surgery\n",
      "   - **Summary:** This systematic review and meta-analysis evaluated the incidence of seroma formation in laparoscopic indirect hernia repair using sac transection versus complete sac reduction. The analysis of six studies indicated that sac transection was associated with a higher incidence of seroma (OR = 1.74, 95% CI: 1.35-2.24), although no significant differences were noted in operation time, hospital stay, or recurrence rates. The authors conclude that while transection increases seroma risk, it does not elevate other complication rates.\n",
      "\n",
      "4. **A Case of Local Resection and Mesh Repair of the Abdominal Wall to Effectively Treat the Recurrence of Sigmoid Colon Cancer with Spontaneous Perforation in the Inguinal Hernia Sac**\n",
      "   - **Authors:** Kyosuke Agawa et al.\n",
      "   - **Journal:** Gan to kagaku ryoho. Cancer & chemotherapy\n",
      "   - **Summary:** This case report describes a 79-year-old man with a recurrent sigmoid colon cancer tumor in the inguinal hernia sac, which was surgically resected along with abdominal wall reconstruction. Postoperative chemotherapy was administered, and the patient remained free of recurrence one year later. The authors emphasize the importance of surgical intervention in managing painful recurrences impacting quality of life.\n",
      "\n",
      "5. **A Case of Appendiceal Pseudomyxoma Peritonei Diagnosed by Inguinal Hernia and Treated with Multidisciplinary Treatment**\n",
      "   - **Authors:** Akira Sogawa et al.\n",
      "   - **Journal:** Gan to kagaku ryoho. Cancer & chemotherapy\n",
      "   - **Summary:** This case report details a 62-year-old man diagnosed with pseudomyxoma peritonei (PMP) due to a ruptured appendiceal myxoma presenting as an inguinal hernia. The patient underwent extensive surgical intervention followed by intraperitoneal chemotherapy and hyperthermia treatment. The authors highlight the complexity of PMP management and the necessity for a multidisciplinary approach.\n",
      "\n",
      "### Overview\n",
      "The articles collectively address various surgical approaches and complications associated with inguinal hernias, including rare presentations such as ectopic pregnancy and malignancies. They emphasize the efficacy of minimally invasive techniques, the comparative safety of different anesthetic modalities, and the implications of surgical techniques on postoperative outcomes like seroma formation. The findings underscore the importance of tailored surgical strategies and multidisciplinary management in complex cases, contributing valuable insights to the field of hernia repair and oncological surgery.\n"
     ]
    }
   ],
   "source": [
    "print(res)"
   ]
  },
  {
   "cell_type": "code",
   "execution_count": null,
   "id": "c002f1ca-79e7-4d0a-9bb6-4ea08bcb0eab",
   "metadata": {},
   "outputs": [],
   "source": []
  }
 ],
 "metadata": {
  "kernelspec": {
   "display_name": "medsearch",
   "language": "python",
   "name": "medsearch-env"
  },
  "language_info": {
   "codemirror_mode": {
    "name": "ipython",
    "version": 3
   },
   "file_extension": ".py",
   "mimetype": "text/x-python",
   "name": "python",
   "nbconvert_exporter": "python",
   "pygments_lexer": "ipython3",
   "version": "3.13.4"
  }
 },
 "nbformat": 4,
 "nbformat_minor": 5
}
